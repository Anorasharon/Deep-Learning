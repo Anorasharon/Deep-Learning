{
 "cells": [
  {
   "cell_type": "code",
   "execution_count": 58,
   "id": "1470cee9-16f7-4111-888f-39c1aed2125a",
   "metadata": {},
   "outputs": [],
   "source": [
    "from tensorflow.keras.preprocessing.image import ImageDataGenerator\n",
    "from tensorflow.keras.applications import MobileNetV2\n",
    "from tensorflow.keras.layers import AveragePooling2D\n",
    "from tensorflow.keras.layers import Dropout\n",
    "from tensorflow.keras.layers import Flatten\n",
    "from tensorflow.keras.layers import Dense\n",
    "from tensorflow.keras.layers import Input\n",
    "from tensorflow.keras.models import Model\n",
    "from tensorflow.keras.optimizers import Adam\n",
    "from tensorflow.keras.applications.mobilenet_v2 import preprocess_input\n",
    "from tensorflow.keras.preprocessing.image import img_to_array\n",
    "from tensorflow.keras.preprocessing.image import load_img\n",
    "from tensorflow.keras.utils import to_categorical\n",
    "from sklearn.preprocessing import LabelBinarizer\n",
    "from sklearn.preprocessing import LabelEncoder\n",
    "from sklearn.model_selection import train_test_split\n",
    "from sklearn.metrics import classification_report\n",
    "from imutils import paths\n",
    "import matplotlib.pyplot as plt\n",
    "import numpy as np\n",
    "import argparse\n",
    "import os"
   ]
  },
  {
   "cell_type": "code",
   "execution_count": 59,
   "id": "ae0c23e3-bfde-4df3-8414-fa48f3b8d6c0",
   "metadata": {},
   "outputs": [],
   "source": [
    "args = {\n",
    "    \"dataset\": r\"D:\\deep learning\\garbage detection\", \n",
    "    \"plot\": \"plot.png\",\n",
    "    \"model\": \"mask_detectorch.model\"\n",
    "}"
   ]
  },
  {
   "cell_type": "code",
   "execution_count": 60,
   "id": "7413fc32-c451-4d06-bb17-6393e3e3a6db",
   "metadata": {},
   "outputs": [],
   "source": [
    "INIT_LR = 1e-4\n",
    "EPOCHS = 10\n",
    "BS = 32"
   ]
  },
  {
   "cell_type": "code",
   "execution_count": 61,
   "id": "9acc8d23-4408-4faf-a0fa-bde79b0b2538",
   "metadata": {},
   "outputs": [
    {
     "name": "stdout",
     "output_type": "stream",
     "text": [
      "[INFO] loading images from the dataset...\n"
     ]
    }
   ],
   "source": [
    "print(\"[INFO] loading images from the dataset...\")\n",
    "imagePaths = list(paths.list_images(args[\"dataset\"]))\n",
    "data = []\n",
    "labels = []"
   ]
  },
  {
   "cell_type": "code",
   "execution_count": 62,
   "id": "57c3f95f-814e-4ef1-97b5-31e3de1c9cfe",
   "metadata": {},
   "outputs": [],
   "source": [
    "for imagePath in imagePaths:\n",
    "\tlabel = imagePath.split(os.path.sep)[-2]\n",
    "\timage = load_img(imagePath, target_size=(224, 224))\n",
    "\timage = img_to_array(image)\n",
    "\timage = preprocess_input(image)\n",
    "\tdata.append(image)\n",
    "\tlabels.append(label)"
   ]
  },
  {
   "cell_type": "code",
   "execution_count": 63,
   "id": "9ff8afdb-7925-42ff-993d-2ab9e656bf28",
   "metadata": {},
   "outputs": [],
   "source": [
    "data = np.array(data, dtype=\"float32\")\n",
    "labels = np.array(labels)\n"
   ]
  },
  {
   "cell_type": "code",
   "execution_count": 66,
   "id": "add48edf-7fc6-4bfb-91e5-9ae8c52a3c31",
   "metadata": {},
   "outputs": [],
   "source": [
    "lb =LabelEncoder()\n",
    "labels = lb.fit_transform(labels)"
   ]
  },
  {
   "cell_type": "code",
   "execution_count": 67,
   "id": "a19d3976-b3df-4eb5-97ac-53c2a9650e82",
   "metadata": {},
   "outputs": [],
   "source": [
    "(trainX, testX, trainY, testY) = train_test_split(data, labels,\n",
    "\ttest_size=0.20, stratify=labels, random_state=42)"
   ]
  },
  {
   "cell_type": "code",
   "execution_count": 84,
   "id": "8c87fe20-d276-45b1-836c-11db39e7bbe6",
   "metadata": {},
   "outputs": [],
   "source": [
    "from tensorflow.keras.utils import to_categorical\n",
    "\n",
    "trainY = to_categorical(trainY)\n",
    "testY = to_categorical(testY)\n"
   ]
  },
  {
   "cell_type": "code",
   "execution_count": 85,
   "id": "ba8a3cea-aede-4139-b9a2-1719143ec693",
   "metadata": {},
   "outputs": [],
   "source": [
    "aug = ImageDataGenerator(\n",
    "\trotation_range=20,\n",
    "\tzoom_range=0.15,\n",
    "\twidth_shift_range=0.2,\n",
    "\theight_shift_range=0.2,\n",
    "\tshear_range=0.15,\n",
    "\thorizontal_flip=True,\n",
    "\tfill_mode=\"nearest\")"
   ]
  },
  {
   "cell_type": "code",
   "execution_count": 86,
   "id": "258bbdf8-abd6-4195-ab3a-7b719db20c1d",
   "metadata": {},
   "outputs": [
    {
     "name": "stdout",
     "output_type": "stream",
     "text": [
      "WARNING:tensorflow:`input_shape` is undefined or non-square, or `rows` is not in [96, 128, 160, 192, 224]. Weights for input shape (224, 224) will be loaded as the default.\n"
     ]
    }
   ],
   "source": [
    "baseModel = MobileNetV2(weights=\"imagenet\", include_top=False,\n",
    "                        input_tensor=Input(shape=(224, 224, 3)))"
   ]
  },
  {
   "cell_type": "code",
   "execution_count": 79,
   "id": "a510ddba-453d-4c94-860a-ef7c5e56d8ee",
   "metadata": {},
   "outputs": [],
   "source": [
    "headModel = baseModel.output\n",
    "headModel = AveragePooling2D(pool_size=(7, 7))(headModel)\n",
    "headModel = Flatten(name=\"flatten\")(headModel)\n",
    "headModel = Dense(128, activation=\"relu\")(headModel)\n",
    "headModel = Dropout(0.5)(headModel)\n",
    "headModel = Dense(6, activation=\"softmax\")(headModel)"
   ]
  },
  {
   "cell_type": "code",
   "execution_count": 80,
   "id": "1d56c68b-9b76-48be-8487-a1355167cc08",
   "metadata": {},
   "outputs": [],
   "source": [
    "model = Model(inputs=baseModel.input, outputs=headModel)"
   ]
  },
  {
   "cell_type": "code",
   "execution_count": 81,
   "id": "c41528b8-7a00-4502-a03c-31e06129e616",
   "metadata": {},
   "outputs": [],
   "source": [
    "for layer in baseModel.layers:\n",
    "\tlayer.trainable = False"
   ]
  },
  {
   "cell_type": "code",
   "execution_count": 82,
   "id": "560a3cb9-da52-4d69-8879-4b75c58db30b",
   "metadata": {},
   "outputs": [
    {
     "name": "stdout",
     "output_type": "stream",
     "text": [
      "[INFO] compiling model...\n"
     ]
    }
   ],
   "source": [
    "print(\"[INFO] compiling model...\")\n",
    "opt = Adam(lr=INIT_LR, decay=INIT_LR / EPOCHS)\n",
    "model.compile(loss=\"categorical_crossentropy\", optimizer=opt,\n",
    "\tmetrics=[\"accuracy\"])"
   ]
  },
  {
   "cell_type": "code",
   "execution_count": 83,
   "id": "f956c6ba-2c68-4ffa-b018-f0b4f3defa05",
   "metadata": {},
   "outputs": [
    {
     "name": "stdout",
     "output_type": "stream",
     "text": [
      "[INFO] training head...\n",
      "Epoch 1/10\n",
      "63/63 [==============================] - 37s 561ms/step - loss: 1.7189 - accuracy: 0.3414 - val_loss: 1.2214 - val_accuracy: 0.5909\n",
      "Epoch 2/10\n",
      "63/63 [==============================] - 40s 627ms/step - loss: 1.2715 - accuracy: 0.5214 - val_loss: 0.9412 - val_accuracy: 0.6937\n",
      "Epoch 3/10\n",
      "63/63 [==============================] - 38s 608ms/step - loss: 1.0464 - accuracy: 0.6063 - val_loss: 0.8383 - val_accuracy: 0.6858\n",
      "Epoch 4/10\n",
      "63/63 [==============================] - 39s 613ms/step - loss: 0.9367 - accuracy: 0.6526 - val_loss: 0.7407 - val_accuracy: 0.7391\n",
      "Epoch 5/10\n",
      "63/63 [==============================] - 36s 570ms/step - loss: 0.8461 - accuracy: 0.6823 - val_loss: 0.6870 - val_accuracy: 0.7589\n",
      "Epoch 6/10\n",
      "63/63 [==============================] - 42s 661ms/step - loss: 0.7721 - accuracy: 0.7280 - val_loss: 0.6481 - val_accuracy: 0.7609\n",
      "Epoch 7/10\n",
      "63/63 [==============================] - 41s 654ms/step - loss: 0.7386 - accuracy: 0.7345 - val_loss: 0.6150 - val_accuracy: 0.7767\n",
      "Epoch 8/10\n",
      "63/63 [==============================] - 38s 601ms/step - loss: 0.6995 - accuracy: 0.7446 - val_loss: 0.5925 - val_accuracy: 0.7984\n",
      "Epoch 9/10\n",
      "63/63 [==============================] - 43s 689ms/step - loss: 0.6725 - accuracy: 0.7592 - val_loss: 0.5955 - val_accuracy: 0.7866\n",
      "Epoch 10/10\n",
      "63/63 [==============================] - 49s 780ms/step - loss: 0.6511 - accuracy: 0.7552 - val_loss: 0.5674 - val_accuracy: 0.8004\n"
     ]
    }
   ],
   "source": [
    "print(\"[INFO] training head...\")\n",
    "H = model.fit(\n",
    "\taug.flow(trainX, trainY, batch_size=BS),\n",
    "\tsteps_per_epoch=len(trainX) // BS,\n",
    "\tvalidation_data=(testX, testY),\n",
    "\tvalidation_steps=len(testX) // BS,\n",
    "\tepochs=EPOCHS)"
   ]
  },
  {
   "cell_type": "code",
   "execution_count": 87,
   "id": "c2a9efc7-7449-4a32-ad64-b42149c70584",
   "metadata": {},
   "outputs": [
    {
     "name": "stdout",
     "output_type": "stream",
     "text": [
      "[INFO] evaluating network...\n",
      "16/16 [==============================] - 7s 411ms/step\n"
     ]
    }
   ],
   "source": [
    "print(\"[INFO] evaluating network...\")\n",
    "predIdxs = model.predict(testX, batch_size=BS)\n"
   ]
  },
  {
   "cell_type": "code",
   "execution_count": 94,
   "id": "9fc87d85-d421-484f-9af2-c6cf25c7df72",
   "metadata": {},
   "outputs": [
    {
     "name": "stdout",
     "output_type": "stream",
     "text": [
      "[0 1 2 3 4 5]\n",
      "[0 1 2 3 4 5]\n",
      "[0 1 2 3 4 5]\n",
      "(506,)\n"
     ]
    }
   ],
   "source": [
    "print(np.unique(testY.argmax(axis=1)))\n",
    "print(np.unique(predIdxs))\n",
    "print(np.unique(trainY.argmax(axis=1)))\n",
    "print(predIdxs.shape)\n"
   ]
  },
  {
   "cell_type": "code",
   "execution_count": 96,
   "id": "626ec377-be86-4206-b1ec-c52af5482c53",
   "metadata": {},
   "outputs": [
    {
     "name": "stdout",
     "output_type": "stream",
     "text": [
      "              precision    recall  f1-score   support\n",
      "\n",
      "     Plastic       0.95      0.85      0.90        81\n",
      "       Paper       1.00      0.19      0.31       425\n",
      "       Trash       0.00      0.00      0.00         0\n",
      "       Metal       0.00      0.00      0.00         0\n",
      "       Glass       0.00      0.00      0.00         0\n",
      "   Cardboard       0.00      0.00      0.00         0\n",
      "\n",
      "    accuracy                           0.29       506\n",
      "   macro avg       0.32      0.17      0.20       506\n",
      "weighted avg       0.99      0.29      0.41       506\n",
      "\n"
     ]
    },
    {
     "name": "stderr",
     "output_type": "stream",
     "text": [
      "C:\\Users\\anora\\Downloads\\anaconda\\lib\\site-packages\\sklearn\\metrics\\_classification.py:1531: UndefinedMetricWarning: Recall is ill-defined and being set to 0.0 in labels with no true samples. Use `zero_division` parameter to control this behavior.\n",
      "  _warn_prf(average, modifier, f\"{metric.capitalize()} is\", len(result))\n",
      "C:\\Users\\anora\\Downloads\\anaconda\\lib\\site-packages\\sklearn\\metrics\\_classification.py:1531: UndefinedMetricWarning: Recall is ill-defined and being set to 0.0 in labels with no true samples. Use `zero_division` parameter to control this behavior.\n",
      "  _warn_prf(average, modifier, f\"{metric.capitalize()} is\", len(result))\n",
      "C:\\Users\\anora\\Downloads\\anaconda\\lib\\site-packages\\sklearn\\metrics\\_classification.py:1531: UndefinedMetricWarning: Recall is ill-defined and being set to 0.0 in labels with no true samples. Use `zero_division` parameter to control this behavior.\n",
      "  _warn_prf(average, modifier, f\"{metric.capitalize()} is\", len(result))\n"
     ]
    }
   ],
   "source": [
    "target_names = [\"Plastic\", \"Paper\", \"Trash\", \"Metal\", \"Glass\",'Cardboard']  \n",
    "testY = np.argmax(testY, axis=1)\n",
    "print(classification_report(testY.argmax(axis=1), predIdxs,\n",
    "\ttarget_names=target_names))\n"
   ]
  },
  {
   "cell_type": "code",
   "execution_count": 97,
   "id": "d853d8e1-b6b6-41da-a8ba-bff8f1b1274a",
   "metadata": {},
   "outputs": [
    {
     "name": "stdout",
     "output_type": "stream",
     "text": [
      "[INFO] saving mask detector model...\n"
     ]
    }
   ],
   "source": [
    "print(\"[INFO] saving mask detector model...\")\n",
    "model.save(args[\"model\"], save_format=\"h5\")"
   ]
  },
  {
   "cell_type": "code",
   "execution_count": 98,
   "id": "41504d42-cd9c-4634-aa99-7b0a8b7890a0",
   "metadata": {},
   "outputs": [
    {
     "data": {
      "image/png": "[encoded data removed]",
      "text/plain": [
       "<Figure size 640x480 with 1 Axes>"
      ]
     },
     "metadata": {},
     "output_type": "display_data"
    }
   ],
   "source": [
    "N = EPOCHS\n",
    "plt.style.use(\"ggplot\")\n",
    "plt.figure()\n",
    "plt.plot(np.arange(0, N), H.history[\"loss\"], label=\"train_loss\")\n",
    "plt.plot(np.arange(0, N), H.history[\"val_loss\"], label=\"val_loss\")\n",
    "plt.plot(np.arange(0, N), H.history[\"accuracy\"], label=\"train_acc\")\n",
    "plt.plot(np.arange(0, N), H.history[\"val_accuracy\"], label=\"val_acc\")\n",
    "plt.title(\"Training Loss and Accuracy\")\n",
    "plt.xlabel(\"Epoch #\")\n",
    "plt.ylabel(\"Loss/Accuracy\")\n",
    "plt.legend(loc=\"lower left\")\n",
    "plt.savefig(args[\"plot\"])\n"
   ]
  },
  {
   "cell_type": "code",
   "execution_count": 99,
   "id": "5d005fd6-adb1-47ee-801a-96587d917831",
   "metadata": {},
   "outputs": [],
   "source": [
    "model.save(\"garbage_classifier.h5\")\n"
   ]
  },
  {
   "cell_type": "code",
   "execution_count": null,
   "id": "ccb9bf48-2bd5-4886-b17d-ce6d2aa48dc0",
   "metadata": {},
   "outputs": [],
   "source": []
  }
 ],
 "metadata": {
  "kernelspec": {
   "display_name": "Python 3 (ipykernel)",
   "language": "python",
   "name": "python3"
  },
  "language_info": {
   "codemirror_mode": {
    "name": "ipython",
    "version": 3
   },
   "file_extension": ".py",
   "mimetype": "text/x-python",
   "name": "python",
   "nbconvert_exporter": "python",
   "pygments_lexer": "ipython3",
   "version": "3.10.18"
  }
 },
 "nbformat": 4,
 "nbformat_minor": 5
}
