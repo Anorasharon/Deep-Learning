{
 "cells": [
  {
   "cell_type": "code",
   "execution_count": 3,
   "id": "1470cee9-16f7-4111-888f-39c1aed2125a",
   "metadata": {},
   "outputs": [],
   "source": [
    "from tensorflow.keras.preprocessing.image import ImageDataGenerator\n",
    "from tensorflow.keras.applications import MobileNetV2\n",
    "from tensorflow.keras.layers import AveragePooling2D\n",
    "from tensorflow.keras.layers import Dropout\n",
    "from tensorflow.keras.layers import Flatten\n",
    "from tensorflow.keras.layers import Dense\n",
    "from tensorflow.keras.layers import Input\n",
    "from tensorflow.keras.models import Model\n",
    "from tensorflow.keras.optimizers import Adam\n",
    "from tensorflow.keras.applications.mobilenet_v2 import preprocess_input\n",
    "from tensorflow.keras.preprocessing.image import img_to_array\n",
    "from tensorflow.keras.preprocessing.image import load_img\n",
    "from tensorflow.keras.utils import to_categorical\n",
    "from sklearn.preprocessing import LabelBinarizer\n",
    "from sklearn.preprocessing import LabelEncoder\n",
    "from sklearn.model_selection import train_test_split\n",
    "from sklearn.metrics import classification_report\n",
    "from imutils import paths\n",
    "import matplotlib.pyplot as plt\n",
    "import numpy as np\n",
    "import argparse\n",
    "import os"
   ]
  },
  {
   "cell_type": "code",
   "execution_count": 4,
   "id": "ae0c23e3-bfde-4df3-8414-fa48f3b8d6c0",
   "metadata": {},
   "outputs": [],
   "source": [
    "args = {\n",
    "    \"dataset\": r\"D:\\deep learning\\garbage detection\", \n",
    "    \"plot\": \"plot.png\",\n",
    "    \"model\": \"mask_detectorch.model\"\n",
    "}"
   ]
  },
  {
   "cell_type": "code",
   "execution_count": 5,
   "id": "7413fc32-c451-4d06-bb17-6393e3e3a6db",
   "metadata": {},
   "outputs": [],
   "source": [
    "INIT_LR = 1e-4\n",
    "EPOCHS = 20\n",
    "BS = 32"
   ]
  },
  {
   "cell_type": "code",
   "execution_count": 6,
   "id": "9acc8d23-4408-4faf-a0fa-bde79b0b2538",
   "metadata": {},
   "outputs": [
    {
     "name": "stdout",
     "output_type": "stream",
     "text": [
      "[INFO] loading images from the dataset...\n"
     ]
    }
   ],
   "source": [
    "print(\"[INFO] loading images from the dataset...\")\n",
    "imagePaths = list(paths.list_images(args[\"dataset\"]))\n",
    "data = []\n",
    "labels = []"
   ]
  },
  {
   "cell_type": "code",
   "execution_count": 7,
   "id": "57c3f95f-814e-4ef1-97b5-31e3de1c9cfe",
   "metadata": {},
   "outputs": [],
   "source": [
    "for imagePath in imagePaths:\n",
    "\tlabel = imagePath.split(os.path.sep)[-2]\n",
    "\timage = load_img(imagePath, target_size=(224, 224))\n",
    "\timage = img_to_array(image)\n",
    "\timage = preprocess_input(image)\n",
    "\tdata.append(image)\n",
    "\tlabels.append(label)"
   ]
  },
  {
   "cell_type": "code",
   "execution_count": 8,
   "id": "9ff8afdb-7925-42ff-993d-2ab9e656bf28",
   "metadata": {},
   "outputs": [],
   "source": [
    "data= np.array(data, dtype=\"float32\")\n",
    "labels = np.array(labels)\n"
   ]
  },
  {
   "cell_type": "code",
   "execution_count": 20,
   "id": "cbc83039-5494-4619-9ffc-310bb5e9a5dd",
   "metadata": {},
   "outputs": [
    {
     "name": "stdout",
     "output_type": "stream",
     "text": [
      "Counter({3: 594, 1: 501, 4: 482, 2: 410, 0: 403, 5: 137})\n"
     ]
    }
   ],
   "source": [
    "import collections\n",
    "count1=collections.Counter(labels)\n",
    "print(count1)\n",
    "data1=[]\n",
    "label1=[]\n",
    "for i in range(len(labels)):\n",
    "    if count1[labels[i]]!='garbage detection':\n",
    "        data1.append(data[i])\n",
    "        label1.append(labels[i])\n",
    "data = np.array(data1, dtype=\"float32\")\n",
    "labels = np.array(label1)\n"
   ]
  },
  {
   "cell_type": "code",
   "execution_count": 21,
   "id": "add48edf-7fc6-4bfb-91e5-9ae8c52a3c31",
   "metadata": {},
   "outputs": [],
   "source": [
    "lb =LabelEncoder()\n",
    "labels = lb.fit_transform(labels)"
   ]
  },
  {
   "cell_type": "code",
   "execution_count": 22,
   "id": "42d7dd00-acc1-4214-9755-7ce7e767007e",
   "metadata": {},
   "outputs": [
    {
     "name": "stdout",
     "output_type": "stream",
     "text": [
      "Counter({3: 594, 1: 501, 4: 482, 2: 410, 0: 403, 5: 137})\n"
     ]
    }
   ],
   "source": [
    "print(collections.Counter(labels))"
   ]
  },
  {
   "cell_type": "code",
   "execution_count": 23,
   "id": "a19d3976-b3df-4eb5-97ac-53c2a9650e82",
   "metadata": {},
   "outputs": [],
   "source": [
    "(trainX, testX, trainY, testY) = train_test_split(data, labels,\n",
    "\ttest_size=0.20, random_state=42)"
   ]
  },
  {
   "cell_type": "code",
   "execution_count": 24,
   "id": "8c87fe20-d276-45b1-836c-11db39e7bbe6",
   "metadata": {},
   "outputs": [],
   "source": [
    "from tensorflow.keras.utils import to_categorical\n",
    "\n",
    "trainY = to_categorical(trainY)\n",
    "testY = to_categorical(testY)\n"
   ]
  },
  {
   "cell_type": "code",
   "execution_count": 25,
   "id": "ba8a3cea-aede-4139-b9a2-1719143ec693",
   "metadata": {},
   "outputs": [],
   "source": [
    "aug = ImageDataGenerator(\n",
    "\trotation_range=20,\n",
    "\tzoom_range=0.15,\n",
    "\twidth_shift_range=0.2,\n",
    "\theight_shift_range=0.2,\n",
    "\tshear_range=0.15,\n",
    "\thorizontal_flip=True,\n",
    "\tfill_mode=\"nearest\")"
   ]
  },
  {
   "cell_type": "code",
   "execution_count": 26,
   "id": "258bbdf8-abd6-4195-ab3a-7b719db20c1d",
   "metadata": {},
   "outputs": [
    {
     "name": "stdout",
     "output_type": "stream",
     "text": [
      "WARNING:tensorflow:`input_shape` is undefined or non-square, or `rows` is not in [96, 128, 160, 192, 224]. Weights for input shape (224, 224) will be loaded as the default.\n"
     ]
    }
   ],
   "source": [
    "baseModel = MobileNetV2(weights=\"imagenet\", include_top=False,\n",
    "                        input_tensor=Input(shape=(224, 224, 3)))"
   ]
  },
  {
   "cell_type": "code",
   "execution_count": 33,
   "id": "a510ddba-453d-4c94-860a-ef7c5e56d8ee",
   "metadata": {},
   "outputs": [],
   "source": [
    "headModel = baseModel.output\n",
    "headModel = AveragePooling2D(pool_size=(7, 7))(headModel)\n",
    "headModel = Flatten(name=\"flatten\")(headModel)\n",
    "headModel = Dense(128, activation=\"relu\")(headModel)\n",
    "headModel = Dropout(0.5)(headModel)\n",
    "headModel = Dense(6, activation=\"softmax\")(headModel)"
   ]
  },
  {
   "cell_type": "code",
   "execution_count": 34,
   "id": "1d56c68b-9b76-48be-8487-a1355167cc08",
   "metadata": {},
   "outputs": [],
   "source": [
    "model = Model(inputs=baseModel.input, outputs=headModel)"
   ]
  },
  {
   "cell_type": "code",
   "execution_count": 35,
   "id": "c41528b8-7a00-4502-a03c-31e06129e616",
   "metadata": {},
   "outputs": [],
   "source": [
    "for layer in baseModel.layers:\n",
    "\tlayer.trainable = False"
   ]
  },
  {
   "cell_type": "code",
   "execution_count": 36,
   "id": "560a3cb9-da52-4d69-8879-4b75c58db30b",
   "metadata": {},
   "outputs": [
    {
     "name": "stdout",
     "output_type": "stream",
     "text": [
      "[INFO] compiling model...\n"
     ]
    }
   ],
   "source": [
    "print(\"[INFO] compiling model...\")\n",
    "opt = Adam(lr=INIT_LR, decay=INIT_LR / EPOCHS)\n",
    "model.compile(loss=\"categorical_crossentropy\", optimizer=opt,\n",
    "\tmetrics=[\"accuracy\"])"
   ]
  },
  {
   "cell_type": "code",
   "execution_count": 39,
   "id": "f956c6ba-2c68-4ffa-b018-f0b4f3defa05",
   "metadata": {},
   "outputs": [
    {
     "name": "stdout",
     "output_type": "stream",
     "text": [
      "[INFO] training head...\n",
      "Epoch 1/20\n",
      "63/63 [==============================] - 176s 3s/step - loss: 0.4649 - accuracy: 0.8281 - val_loss: 0.4703 - val_accuracy: 0.8419\n",
      "Epoch 2/20\n",
      "63/63 [==============================] - 174s 3s/step - loss: 0.4318 - accuracy: 0.8446 - val_loss: 0.4729 - val_accuracy: 0.8360\n",
      "Epoch 3/20\n",
      "63/63 [==============================] - 187s 3s/step - loss: 0.4417 - accuracy: 0.8446 - val_loss: 0.4668 - val_accuracy: 0.8458\n",
      "Epoch 4/20\n",
      "63/63 [==============================] - 170s 3s/step - loss: 0.4483 - accuracy: 0.8396 - val_loss: 0.4637 - val_accuracy: 0.8458\n",
      "Epoch 5/20\n",
      "63/63 [==============================] - 178s 3s/step - loss: 0.4445 - accuracy: 0.8436 - val_loss: 0.4588 - val_accuracy: 0.8498\n",
      "Epoch 6/20\n",
      "63/63 [==============================] - 166s 3s/step - loss: 0.4114 - accuracy: 0.8517 - val_loss: 0.4602 - val_accuracy: 0.8458\n",
      "Epoch 7/20\n",
      "63/63 [==============================] - 169s 3s/step - loss: 0.4098 - accuracy: 0.8477 - val_loss: 0.4571 - val_accuracy: 0.8419\n",
      "Epoch 8/20\n",
      "63/63 [==============================] - 214s 3s/step - loss: 0.3857 - accuracy: 0.8728 - val_loss: 0.4540 - val_accuracy: 0.8577\n",
      "Epoch 9/20\n",
      "63/63 [==============================] - 220s 4s/step - loss: 0.3839 - accuracy: 0.8632 - val_loss: 0.4512 - val_accuracy: 0.8597\n",
      "Epoch 10/20\n",
      "63/63 [==============================] - 205s 3s/step - loss: 0.3956 - accuracy: 0.8678 - val_loss: 0.4534 - val_accuracy: 0.8498\n",
      "Epoch 11/20\n",
      "63/63 [==============================] - 245s 4s/step - loss: 0.3525 - accuracy: 0.8788 - val_loss: 0.4517 - val_accuracy: 0.8538\n",
      "Epoch 12/20\n",
      "63/63 [==============================] - 255s 4s/step - loss: 0.3780 - accuracy: 0.8673 - val_loss: 0.4494 - val_accuracy: 0.8597\n",
      "Epoch 13/20\n",
      "63/63 [==============================] - 49s 785ms/step - loss: 0.3705 - accuracy: 0.8778 - val_loss: 0.4374 - val_accuracy: 0.8439\n",
      "Epoch 14/20\n",
      "63/63 [==============================] - 49s 774ms/step - loss: 0.3462 - accuracy: 0.8824 - val_loss: 0.4438 - val_accuracy: 0.8557\n",
      "Epoch 15/20\n",
      "63/63 [==============================] - 50s 789ms/step - loss: 0.3518 - accuracy: 0.8733 - val_loss: 0.4454 - val_accuracy: 0.8617\n",
      "Epoch 16/20\n",
      "63/63 [==============================] - 53s 841ms/step - loss: 0.3419 - accuracy: 0.8773 - val_loss: 0.4360 - val_accuracy: 0.8597\n",
      "Epoch 17/20\n",
      "63/63 [==============================] - 60s 949ms/step - loss: 0.3401 - accuracy: 0.8738 - val_loss: 0.4455 - val_accuracy: 0.8577\n",
      "Epoch 18/20\n",
      "63/63 [==============================] - 51s 811ms/step - loss: 0.3363 - accuracy: 0.8768 - val_loss: 0.4406 - val_accuracy: 0.8617\n",
      "Epoch 19/20\n",
      "63/63 [==============================] - 52s 825ms/step - loss: 0.3408 - accuracy: 0.8768 - val_loss: 0.4466 - val_accuracy: 0.8498\n",
      "Epoch 20/20\n",
      "63/63 [==============================] - 54s 854ms/step - loss: 0.3199 - accuracy: 0.8854 - val_loss: 0.4425 - val_accuracy: 0.8458\n"
     ]
    }
   ],
   "source": [
    "print(\"[INFO] training head...\")\n",
    "H = model.fit(\n",
    "\taug.flow(trainX, trainY, batch_size=BS),\n",
    "\tsteps_per_epoch=len(trainX) // BS,\n",
    "\tvalidation_data=(testX, testY),\n",
    "\tvalidation_steps=len(testX) // BS,\n",
    "\tepochs=EPOCHS)"
   ]
  },
  {
   "cell_type": "code",
   "execution_count": 40,
   "id": "c2a9efc7-7449-4a32-ad64-b42149c70584",
   "metadata": {},
   "outputs": [
    {
     "name": "stdout",
     "output_type": "stream",
     "text": [
      "[INFO] evaluating network...\n",
      "16/16 [==============================] - 8s 504ms/step\n"
     ]
    }
   ],
   "source": [
    "print(\"[INFO] evaluating network...\")\n",
    "predIdxs = model.predict(testX, batch_size=BS)\n"
   ]
  },
  {
   "cell_type": "code",
   "execution_count": 41,
   "id": "9fc87d85-d421-484f-9af2-c6cf25c7df72",
   "metadata": {},
   "outputs": [
    {
     "name": "stdout",
     "output_type": "stream",
     "text": [
      "[0 1 2 3 4 5]\n",
      "[1.6505897e-08 3.3846653e-08 3.4593953e-08 ... 9.9992168e-01 9.9993658e-01\n",
      " 9.9993885e-01]\n",
      "[0 1 2 3 4 5]\n",
      "(506, 6)\n"
     ]
    }
   ],
   "source": [
    "print(np.unique(testY.argmax(axis=1)))\n",
    "print(np.unique(predIdxs))\n",
    "print(np.unique(trainY.argmax(axis=1)))\n",
    "print(predIdxs.shape)\n"
   ]
  },
  {
   "cell_type": "code",
   "execution_count": 44,
   "id": "626ec377-be86-4206-b1ec-c52af5482c53",
   "metadata": {},
   "outputs": [
    {
     "name": "stdout",
     "output_type": "stream",
     "text": [
      "              precision    recall  f1-score   support\n",
      "\n",
      "     Plastic       0.95      0.83      0.89        71\n",
      "       Paper       0.85      0.82      0.83       107\n",
      "       Trash       0.80      0.97      0.88        87\n",
      "       Metal       0.88      0.90      0.89       118\n",
      "       Glass       0.83      0.80      0.81        99\n",
      "   Cardboard       0.60      0.50      0.55        24\n",
      "\n",
      "    accuracy                           0.85       506\n",
      "   macro avg       0.82      0.80      0.81       506\n",
      "weighted avg       0.85      0.85      0.84       506\n",
      "\n"
     ]
    }
   ],
   "source": [
    "target_names = [\"Plastic\", \"Paper\", \"Trash\", \"Metal\", \"Glass\",'Cardboard']  \n",
    "predIdxs= np.argmax(predIdxs, axis=1)\n",
    "print(classification_report(testY, predIdxs,\n",
    "\ttarget_names=target_names))\n"
   ]
  },
  {
   "cell_type": "code",
   "execution_count": 45,
   "id": "d853d8e1-b6b6-41da-a8ba-bff8f1b1274a",
   "metadata": {},
   "outputs": [
    {
     "name": "stdout",
     "output_type": "stream",
     "text": [
      "[INFO] saving mask detector model...\n"
     ]
    }
   ],
   "source": [
    "print(\"[INFO] saving mask detector model...\")\n",
    "model.save(args[\"model\"], save_format=\"h5\")"
   ]
  },
  {
   "cell_type": "code",
   "execution_count": 46,
   "id": "41504d42-cd9c-4634-aa99-7b0a8b7890a0",
   "metadata": {},
   "outputs": [
    {
     "data": {
      "image/png": "[encoded data removed]",
      "text/plain": [
       "<Figure size 640x480 with 1 Axes>"
      ]
     },
     "metadata": {},
     "output_type": "display_data"
    }
   ],
   "source": [
    "N = EPOCHS\n",
    "plt.style.use(\"ggplot\")\n",
    "plt.figure()\n",
    "plt.plot(np.arange(0, N), H.history[\"loss\"], label=\"train_loss\")\n",
    "plt.plot(np.arange(0, N), H.history[\"val_loss\"], label=\"val_loss\")\n",
    "plt.plot(np.arange(0, N), H.history[\"accuracy\"], label=\"train_acc\")\n",
    "plt.plot(np.arange(0, N), H.history[\"val_accuracy\"], label=\"val_acc\")\n",
    "plt.title(\"Training Loss and Accuracy\")\n",
    "plt.xlabel(\"Epoch #\")\n",
    "plt.ylabel(\"Loss/Accuracy\")\n",
    "plt.legend(loc=\"lower left\")\n",
    "plt.savefig(args[\"plot\"])\n"
   ]
  },
  {
   "cell_type": "code",
   "execution_count": 47,
   "id": "5d005fd6-adb1-47ee-801a-96587d917831",
   "metadata": {},
   "outputs": [],
   "source": [
    "model.save(\"garbage_classifier.h5\")\n"
   ]
  },
  {
   "cell_type": "code",
   "execution_count": null,
   "id": "ccb9bf48-2bd5-4886-b17d-ce6d2aa48dc0",
   "metadata": {},
   "outputs": [],
   "source": []
  }
 ],
 "metadata": {
  "kernelspec": {
   "display_name": "Python 3 (ipykernel)",
   "language": "python",
   "name": "python3"
  },
  "language_info": {
   "codemirror_mode": {
    "name": "ipython",
    "version": 3
   },
   "file_extension": ".py",
   "mimetype": "text/x-python",
   "name": "python",
   "nbconvert_exporter": "python",
   "pygments_lexer": "ipython3",
   "version": "3.10.18"
  }
 },
 "nbformat": 4,
 "nbformat_minor": 5
}
