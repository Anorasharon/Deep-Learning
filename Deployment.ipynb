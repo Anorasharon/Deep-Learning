{
 "cells": [
  {
   "cell_type": "code",
   "execution_count": null,
   "id": "745fb1b6-bde9-434a-ba66-af224a148358",
   "metadata": {},
   "outputs": [],
   "source": [
    "from tensorflow.keras.applications.mobilenet_v2 import preprocess_input\n",
    "from tensorflow.keras.preprocessing.image import img_to_array\n",
    "from tensorflow.keras.models import load_model\n",
    "from imutils.video import VideoStream\n",
    "import numpy as np\n",
    "import argparse\n",
    "import imutils\n",
    "import time\n",
    "import cv2\n",
    "import os\n"
   ]
  },
  {
   "cell_type": "code",
   "execution_count": null,
   "id": "08622dac-959a-4a16-b41f-251c4c92ee31",
   "metadata": {},
   "outputs": [],
   "source": [
    "from tensorflow.keras.models import load_model\n",
    "garbageNet = load_model(\"garbage_classifier.h5\")"
   ]
  },
  {
   "cell_type": "code",
   "execution_count": null,
   "id": "b1c17f05-652e-4335-908f-7c7eeff252b5",
   "metadata": {},
   "outputs": [],
   "source": [
    "def detect_and_predict_garbage(frame, faceNet, garbageNet):\n",
    "    (h, w) = frame.shape[:2]\n",
    "    blob = cv2.dnn.blobFromImage(frame, 1.0, (300, 300), (104.0, 177.0, 123.0))\n",
    "    faceNet.setInput(blob)\n",
    "    detections = faceNet.forward()\n",
    "\n",
    "    faces = []\n",
    "    locs = []\n",
    "    preds = []\n",
    "\n",
    "    for i in range(0, detections.shape[2]):\n",
    "        confidence = detections[0, 0, i, 2]\n",
    "        if confidence > args[\"confidence\"]:\n",
    "            box = detections[0, 0, i, 3:7] * np.array([w, h, w, h])\n",
    "            (startX, startY, endX, endY) = box.astype(\"int\")\n",
    "            (startX, startY) = (max(0, startX), max(0, startY))\n",
    "            (endX, endY) = (min(w - 1, endX), min(h - 1, endY))\n",
    "\n",
    "            face = frame[startY:endY, startX:endX]\n",
    "            face = cv2.cvtColor(face, cv2.COLOR_BGR2RGB)\n",
    "            face = cv2.resize(face, (224, 224))\n",
    "            face = img_to_array(face)\n",
    "            face = preprocess_input(face)\n",
    "\n",
    "            faces.append(face)\n",
    "            locs.append((startX, startY, endX, endY))\n",
    "\n",
    "    if len(faces) > 0:\n",
    "        faces = np.array(faces, dtype=\"float32\")\n",
    "        preds = garbageNet.predict(faces, batch_size=32)\n",
    "\n",
    "    return (locs, preds)\n"
   ]
  },
  {
   "cell_type": "code",
   "execution_count": null,
   "id": "fbbeb87b-2587-4a74-9bc3-dbfcb79a1f9a",
   "metadata": {},
   "outputs": [],
   "source": [
    "args = {\n",
    "    \"garbage\": \"garbage_detector\",\n",
    "    \"model\": \"garbage_classifier.h5\",\n",
    "    \"confidence\": 0.5\n",
    "}\n"
   ]
  },
  {
   "cell_type": "code",
   "execution_count": null,
   "id": "495940ec-bb9e-484f-996f-44871c7d6d55",
   "metadata": {},
   "outputs": [],
   "source": [
    "print(\"[INFO] loading face detector model...\")\n",
    "prototxtPath = os.path.sep.join([args[\"garbage\"], \"deploy.prototxt\"])\n",
    "weightsPath = os.path.sep.join([args[\"garbage\"],\n",
    "    \"res10_300x300_ssd_iter_140000.caffemodel\"])\n",
    "faceNet = cv2.dnn.readNet(prototxtPath, weightsPath)"
   ]
  },
  {
   "cell_type": "code",
   "execution_count": null,
   "id": "adb15061-1484-4b8f-98f5-d9f8e33b6a7f",
   "metadata": {},
   "outputs": [],
   "source": [
    "print(\"[INFO] loading face mask detector model...\")\n",
    "garbageNet = load_model(args[\"model\"])\n"
   ]
  },
  {
   "cell_type": "code",
   "execution_count": null,
   "id": "b30799af-e219-4682-accf-9b8cf8fe2bd4",
   "metadata": {},
   "outputs": [],
   "source": [
    "LABELS = [\"Cardboard\", \"Glass\", \"Metal\", \"Paper\", \"Plastic\", \"Trash\"]\n"
   ]
  },
  {
   "cell_type": "code",
   "execution_count": null,
   "id": "ed554b33-987a-44f6-b4a4-14be29333a1a",
   "metadata": {},
   "outputs": [],
   "source": [
    "print(\"[INFO] starting video stream...\")\n",
    "vs = VideoStream(src=0).start()\n",
    "time.sleep(2.0)"
   ]
  },
  {
   "cell_type": "code",
   "execution_count": null,
   "id": "0088dc72-b883-4d66-a63f-f5c2f5f1148a",
   "metadata": {},
   "outputs": [],
   "source": [
    "while True:\n",
    "    frame = vs.read()\n",
    "    frame = imutils.resize(frame, width=400)\n",
    "    gray = cv2.cvtColor(frame, cv2.COLOR_BGR2GRAY)\n",
    "    blurred = cv2.GaussianBlur(gray, (7, 7), 0)\n",
    "    edged = cv2.Canny(blurred, 30, 150)\n",
    "    contours, _ = cv2.findContours(edged.copy(), cv2.RETR_EXTERNAL, cv2.CHAIN_APPROX_SIMPLE)\n",
    "\n",
    "    for c in contours:\n",
    "        (x, y, w_box, h_box) = cv2.boundingRect(c)\n",
    "        if w_box < 50 or h_box < 50:\n",
    "            continue\n",
    "\n",
    "        roi = frame[y:y+h_box, x:x+w_box]\n",
    "        try:\n",
    "            roi_resized = cv2.resize(roi, (224, 224))\n",
    "        except:\n",
    "            continue\n",
    "\n",
    "        roi_resized = roi_resized.astype(\"float32\") / 255.0\n",
    "        roi_resized = np.expand_dims(roi_resized, axis=0)\n",
    "\n",
    "        pred = garbageNet.predict(roi_resized)[0]\n",
    "        class_index = np.argmax(pred)\n",
    "        confidence = pred[class_index]\n",
    "\n",
    "        if confidence > 0.7:\n",
    "            label = LABELS[class_index]\n",
    "            color = (0, 255, 0)\n",
    "            cv2.rectangle(frame, (x, y), (x + w_box, y + h_box), color, 2)\n",
    "            cv2.putText(frame, f\"{label}: {confidence*100:.1f}%\", (x, y - 10), cv2.FONT_HERSHEY_SIMPLEX, 0.5, color, 2)\n",
    "\n",
    "    cv2.imshow(\"Garbage Detection\", frame)\n",
    "    key = cv2.waitKey(1) & 0xFF\n",
    "    if key == ord(\"q\"):\n",
    "        break\n"
   ]
  },
  {
   "cell_type": "code",
   "execution_count": null,
   "id": "7970429d-ee80-4a2f-a921-59329907e6ed",
   "metadata": {},
   "outputs": [],
   "source": [
    "quit"
   ]
  },
  {
   "cell_type": "code",
   "execution_count": null,
   "id": "f07528c3-c3f4-4d45-90b1-8aad560a45a7",
   "metadata": {},
   "outputs": [],
   "source": []
  }
 ],
 "metadata": {
  "kernelspec": {
   "display_name": "Python 3 (ipykernel)",
   "language": "python",
   "name": "python3"
  },
  "language_info": {
   "codemirror_mode": {
    "name": "ipython",
    "version": 3
   },
   "file_extension": ".py",
   "mimetype": "text/x-python",
   "name": "python",
   "nbconvert_exporter": "python",
   "pygments_lexer": "ipython3",
   "version": "3.10.18"
  }
 },
 "nbformat": 4,
 "nbformat_minor": 5
}
